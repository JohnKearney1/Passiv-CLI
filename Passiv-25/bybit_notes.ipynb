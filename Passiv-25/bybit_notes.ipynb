{
 "cells": [
  {
   "cell_type": "code",
   "execution_count": null,
   "metadata": {},
   "outputs": [],
   "source": [
    "%load_ext autoreload\n",
    "%autoreload 2"
   ]
  },
  {
   "cell_type": "code",
   "execution_count": null,
   "metadata": {},
   "outputs": [],
   "source": [
    "from bybit import *\n",
    "from passivbot import calc_diff\n",
    "import matplotlib.pyplot as plt\n",
    "from pprint import PrettyPrinter"
   ]
  },
  {
   "cell_type": "code",
   "execution_count": null,
   "metadata": {},
   "outputs": [],
   "source": [
    "plt.rcParams['figure.figsize'] = [21, 13]\n",
    "pd.set_option('precision', 10)\n",
    "pp = PrettyPrinter()"
   ]
  },
  {
   "cell_type": "code",
   "execution_count": null,
   "metadata": {},
   "outputs": [],
   "source": [
    "exchange = 'bybit'\n",
    "user = 'e'\n",
    "settings = load_live_settings(exchange, user)\n",
    "settings['exchange'] = exchange\n",
    "s = settings['symbol']"
   ]
  },
  {
   "cell_type": "code",
   "execution_count": null,
   "metadata": {},
   "outputs": [],
   "source": [
    "try:\n",
    "    await bot.cc.close()\n",
    "except:\n",
    "    pass\n",
    "bot = await create_bot(user, settings)\n",
    "cc = bot.cc"
   ]
  },
  {
   "cell_type": "code",
   "execution_count": null,
   "metadata": {},
   "outputs": [],
   "source": [
    "await bot.update_position()\n",
    "bot.position"
   ]
  },
  {
   "cell_type": "code",
   "execution_count": 1,
   "metadata": {},
   "outputs": [
    {
     "name": "stdout",
     "output_type": "stream",
     "text": [
      "/Users/e/Dropbox/pb_v2.0.0_beta\n"
     ]
    }
   ],
   "source": [
    "!pwd"
   ]
  },
  {
   "cell_type": "code",
   "execution_count": null,
   "metadata": {},
   "outputs": [],
   "source": [
    "n_days = 30"
   ]
  },
  {
   "cell_type": "code",
   "execution_count": null,
   "metadata": {},
   "outputs": [],
   "source": [
    "await bot.init_my_trades(n_days)"
   ]
  },
  {
   "cell_type": "code",
   "execution_count": null,
   "metadata": {},
   "outputs": [],
   "source": [
    "len(bot.my_trades)"
   ]
  },
  {
   "cell_type": "code",
   "execution_count": null,
   "metadata": {},
   "outputs": [],
   "source": [
    "mtdf = pd.DataFrame(bot.my_trades)\n",
    "le = mtdf[(mtdf.side == 'buy') & (mtdf.custom_id.str.startswith('entry'))]\n",
    "se = mtdf[(mtdf.side == 'sell') & (mtdf.custom_id.str.startswith('entry'))]\n",
    "lx = mtdf[(mtdf.side == 'sell') & (mtdf.custom_id.str.startswith('close'))]\n",
    "sx = mtdf[(mtdf.side == 'buy') & (mtdf.custom_id.str.startswith('close'))]\n",
    "ss = mtdf[mtdf.custom_id.str.startswith('stop')]\n",
    "\n",
    "le.price.plot(style='b.-')\n",
    "lx.price.plot(style='ro')\n",
    "ss.price.plot(style='gx')"
   ]
  },
  {
   "cell_type": "code",
   "execution_count": null,
   "metadata": {},
   "outputs": [],
   "source": [
    "se.price.plot(style='r.-')\n",
    "sx.price.plot(style='bo')"
   ]
  },
  {
   "cell_type": "code",
   "execution_count": null,
   "metadata": {},
   "outputs": [],
   "source": [
    "mtdf.tail(20)"
   ]
  },
  {
   "cell_type": "code",
   "execution_count": null,
   "metadata": {},
   "outputs": [],
   "source": [
    "mtdf.tail(60)"
   ]
  },
  {
   "cell_type": "code",
   "execution_count": null,
   "metadata": {},
   "outputs": [],
   "source": []
  }
 ],
 "metadata": {
  "kernelspec": {
   "display_name": "Python 3",
   "language": "python",
   "name": "python3"
  },
  "language_info": {
   "codemirror_mode": {
    "name": "ipython",
    "version": 3
   },
   "file_extension": ".py",
   "mimetype": "text/x-python",
   "name": "python",
   "nbconvert_exporter": "python",
   "pygments_lexer": "ipython3",
   "version": "3.8.2"
  }
 },
 "nbformat": 4,
 "nbformat_minor": 4
}
